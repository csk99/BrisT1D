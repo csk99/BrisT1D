{
 "cells": [
  {
   "cell_type": "code",
   "execution_count": 1,
   "metadata": {},
   "outputs": [],
   "source": [
    "import pandas as pd\n",
    "import numpy as np\n",
    "import plotly.express as px\n",
    "import seaborn as sns\n",
    "import matplotlib.pyplot as plt"
   ]
  },
  {
   "cell_type": "code",
   "execution_count": null,
   "metadata": {},
   "outputs": [],
   "source": [
    "df_train = pd.read_csv(\"..\\\\data\\\\raw\\\\train.csv\")\n",
    "\n",
    "df_train.head()"
   ]
  },
  {
   "cell_type": "code",
   "execution_count": null,
   "metadata": {},
   "outputs": [],
   "source": [
    "df_train.shape"
   ]
  },
  {
   "cell_type": "markdown",
   "metadata": {},
   "source": [
    "How many observations for each patient?"
   ]
  },
  {
   "cell_type": "code",
   "execution_count": null,
   "metadata": {},
   "outputs": [],
   "source": [
    "df_train[[\"id\",\"p_num\"]].groupby(\"p_num\").describe()"
   ]
  },
  {
   "cell_type": "markdown",
   "metadata": {},
   "source": [
    "**Comment**:</br>\n",
    "The number of observations per patient differs."
   ]
  },
  {
   "cell_type": "markdown",
   "metadata": {},
   "source": [
    "What time range do we have in our dataset?"
   ]
  },
  {
   "cell_type": "code",
   "execution_count": null,
   "metadata": {},
   "outputs": [],
   "source": [
    "time_ranges = sorted(df_train[\"time\"].unique())\n",
    "print(\"Number of time Observations:\", len(time_ranges))\n",
    "print(\"Time Ranges:\")\n",
    "print(time_ranges)\n",
    "\n",
    "#df_train[[\"time\",\"p_num\"]].groupby(\"p_num\").describe()"
   ]
  },
  {
   "cell_type": "markdown",
   "metadata": {},
   "source": [
    "**Comment:**</br>\n",
    "We have 288 time observations from 00:00 to 23:55 every 5 minutes steps  and they correspond to a whole day (24*60 / 5) of observations.</br>\n",
    "However, there are some missing observations at some time points across different patients.\n"
   ]
  },
  {
   "cell_type": "markdown",
   "metadata": {},
   "source": [
    "Convert the time in format HH:MM:SS into pandas datetime format for easier manipulation"
   ]
  },
  {
   "cell_type": "code",
   "execution_count": null,
   "metadata": {},
   "outputs": [],
   "source": [
    "df_train[\"time\"] = df_train[\"time\"].apply(lambda x: pd.to_datetime(x,format='%H:%M:%S').time())\n",
    "df_train.head()"
   ]
  },
  {
   "cell_type": "markdown",
   "metadata": {},
   "source": [
    "# Check the number of missing values for each group of columns"
   ]
  },
  {
   "cell_type": "code",
   "execution_count": null,
   "metadata": {},
   "outputs": [],
   "source": [
    "#get all the columns from the dataset\n",
    "columns = df_train.columns.tolist()\n",
    "#create a dict that will contains variables that match a pattern\n",
    "group_cols = dict()\n",
    "\n",
    "\n",
    "interest_cols = [\"hr\",\"bg\",\"insulin\",\"carbs\",\"steps\",\"cals\",\"activity\"]\n",
    "for interest_col in interest_cols: \n",
    "\n",
    "    #find all the colums that start_with the same pattern (e.g \"hr\",\"bg\"...)\n",
    "    cols_match_interest = list(filter(lambda x:x != 0,\n",
    "                                     list(\n",
    "                                         map(lambda col: col if col.startswith(interest_col) else 0,columns))))\n",
    "    #add them in a list\n",
    "    group_cols[interest_col] = cols_match_interest\n",
    "\n",
    "    #remove them from original list of columns\n",
    "    columns = list(set(columns) - set(cols_match_interest))\n",
    "c = 0\n",
    "\n",
    "\n",
    "#here we just print the result of the groups using a format we have chosen\n",
    "print(\"The group of colums are \",end=\":\")\n",
    "print(\"[common_pattern,example_col, number]\")\n",
    "for key in group_cols.keys():\n",
    "    c = c + len(group_cols[key])\n",
    "    print(f\"[{key},{group_cols[key][0]},{len(group_cols[key])} ]\")\n",
    "print(c) "
   ]
  },
  {
   "cell_type": "code",
   "execution_count": null,
   "metadata": {},
   "outputs": [],
   "source": [
    "plt.figure(figsize=(20,5))\n",
    "cols= group_cols[\"bg\"]\n",
    "#data = pd.DataFrame(100 * df_train[cols].isna().sum() / df_train.shape[0],index=cols,columns=[\"missing_rate\"]).sort_values(ascending=False,by=\"missing_rate\")\n",
    "\n",
    "data = pd.DataFrame(100 * df_train[cols].isna().sum() / df_train.shape[0],index=cols,columns=[\"missing_rate\"]).sort_index()\n",
    "sns.barplot(data,x=data.index,hue=data.missing_rate,y=data.missing_rate,palette=\"Spectral\",legend=False)\n",
    "plt.xticks(rotation=90);\n",
    "plt.xlabel(\"Blood Glucose levels at different times\");"
   ]
  },
  {
   "cell_type": "markdown",
   "metadata": {},
   "source": [
    "**Comment:** </br>\n",
    "* According to the above plot, we can see that, the target **(bg-1:00)** column has **no** missing values.</br>\n",
    "* However, the past bg columns have different missing values ratios. In fact, there is a \"strange\" pattern that is spotted on the plot. </br>\n",
    "* Depending on the starting point from bg-0:00 / bg-0:05 / bg-0:10, the missing values ratios are are increasing/decreasing every 15 min intervals.\n",
    "* We can also form groups of columns, the first group can be the \"red\" ones having missing values ratios within [1.8-7.5]\n",
    "* The second group can be the \"green\" ones having missing values ratios within [11.2-14]\n",
    "* The third group can be the \"mauve\" ones having missing values ratios within [14.2-16]\n"
   ]
  },
  {
   "cell_type": "code",
   "execution_count": null,
   "metadata": {},
   "outputs": [],
   "source": [
    "fig, ax = plt.subplots(1,2,figsize=(20,5))\n",
    "\n",
    "\n",
    "#first plot\n",
    "cols= group_cols[\"steps\"]\n",
    "data = pd.DataFrame(100 * df_train[cols].isna().sum() / df_train.shape[0],index=cols,columns=[\"missing_rate\"]).sort_values(ascending=False,by=\"missing_rate\")\n",
    "sns.barplot(data,x=data.index,hue=data.missing_rate,y=data.missing_rate,palette=\"Spectral\",legend=False,ax=ax[0])\n",
    "ax[0].set_xlabel(\"Steps related columns\")\n",
    "ax[0].set_ylabel(\"Missing ratio in %\")\n",
    "\n",
    "ax[0].tick_params(axis=\"x\",rotation=90,size=8);\n",
    "\n",
    "\n",
    "\n",
    "#second plot\n",
    "cols= group_cols[\"insulin\"]\n",
    "data = pd.DataFrame(100 * df_train[cols].isna().sum() / df_train.shape[0],index=cols,columns=[\"missing_rate\"]).sort_values(ascending=False,by=\"missing_rate\")\n",
    "sns.barplot(data,x=data.index,hue=data.missing_rate,y=data.missing_rate,palette=\"Spectral\",legend=False,ax=ax[1])\n",
    "ax[1].set_xlabel(\"Insulin related columns\")\n",
    "ax[1].set_ylabel(\"Missing ratio in %\")\n",
    "ax[1].tick_params(axis=\"x\",rotation=90,size=8);\n",
    "\n",
    "\n"
   ]
  },
  {
   "cell_type": "code",
   "execution_count": null,
   "metadata": {},
   "outputs": [],
   "source": [
    "fig, ax = plt.subplots(1,2,figsize=(20,5))\n",
    "\n",
    "\n",
    "cols= group_cols[\"cals\"]\n",
    "data = pd.DataFrame(100 * df_train[cols].isna().sum() / df_train.shape[0],index=cols,columns=[\"missing_rate\"]).sort_values(ascending=False,by=\"missing_rate\")\n",
    "sns.barplot(data,x=data.index,hue=data.missing_rate,y=data.missing_rate,palette=\"Spectral\",legend=False,ax=ax[0])\n",
    "ax[0].set_ylabel(\"Missing ratio in %\")\n",
    "ax[0].set_xlabel(\"Calories related columns\")\n",
    "ax[0].tick_params(axis=\"x\",rotation=90,size=8);\n",
    "\n",
    "#second plot\n",
    "cols= group_cols[\"hr\"]\n",
    "data = pd.DataFrame(100 * df_train[cols].isna().sum() / df_train.shape[0],index=cols,columns=[\"missing_rate\"]).sort_values(ascending=False,by=\"missing_rate\")\n",
    "sns.barplot(data,x=data.index,hue=data.missing_rate,y=data.missing_rate,palette=\"Spectral\",legend=False,ax=ax[1])\n",
    "ax[1].set_xlabel(\"Heart Rate realted columns\")\n",
    "ax[1].set_ylabel(\"Missing ratio in %\")\n",
    "ax[1].tick_params(axis=\"x\",rotation=90,size=8);\n"
   ]
  },
  {
   "cell_type": "code",
   "execution_count": null,
   "metadata": {},
   "outputs": [],
   "source": [
    "fig, ax = plt.subplots(1,2,figsize=(30,5))\n",
    "\n",
    "\n",
    "cols= group_cols[\"activity\"]\n",
    "data = pd.DataFrame(100 * df_train[cols].isna().sum() / df_train.shape[0],index=cols,columns=[\"missing_rate\"]).sort_values(ascending=False,by=\"missing_rate\")\n",
    "sns.barplot(data,x=data.index,hue=data.missing_rate,y=data.missing_rate,palette=\"Spectral\",legend=False,ax=ax[0])\n",
    "ax[0].set_xlabel(\"activity related columns\")\n",
    "ax[0].set_ylabel(\"Missing ratio in %\")\n",
    "ax[0].tick_params(axis=\"x\",rotation=90,size=8);\n",
    "\n",
    "#second plot\n",
    "cols= group_cols[\"carbs\"]\n",
    "data = pd.DataFrame(100 * df_train[cols].isna().sum() / df_train.shape[0],index=cols,columns=[\"missing_rate\"]).sort_values(ascending=False,by=\"missing_rate\")\n",
    "sns.barplot(data,x=data.index,hue=data.missing_rate,y=data.missing_rate,palette=\"Spectral\",legend=False,ax=ax[1])\n",
    "ax[1].set_ylabel(\"Missing ratio in %\")\n",
    "\n",
    "ax[1].set_xlabel(\"Carbs related columns\")\n",
    "ax[1].tick_params(axis=\"x\",rotation=90,size=8);\n",
    "\n",
    "\n"
   ]
  },
  {
   "cell_type": "markdown",
   "metadata": {},
   "source": [
    "From the previous plots, we can see that the **Carbohydrate** & **activity** columns have all together a missing ratio close to 100%. </br>Unless finding another complementary data source, we will consider deleting them and impute the missing values in other columns.</br> More on that later.</br>"
   ]
  },
  {
   "cell_type": "markdown",
   "metadata": {},
   "source": [
    "Plot the Blood glucose evolution over time"
   ]
  },
  {
   "cell_type": "code",
   "execution_count": null,
   "metadata": {},
   "outputs": [],
   "source": [
    "#group the data by time values\n",
    "data = df_train[[\"bg+1:00\",\"time\"]].groupby(\"time\").mean()\n",
    "\n",
    "# Create a line plot\n",
    "fig = px.line(data, x=data.index, y='bg+1:00', title='1 HOUR ahead Blood Glucose over time')\n",
    "\n",
    "# Show the plot\n",
    "fig.show()"
   ]
  },
  {
   "cell_type": "markdown",
   "metadata": {},
   "source": [
    "**Comment:</br>**\n",
    "As expected, the glucose levels at \"sleep time\" between 00H and 06H are on average decreasing most likely to fasting and reduce of activity.</br>\n",
    "Therefore, the time feature might be helpful to predict the 1 hour ahead **blood glucose**."
   ]
  },
  {
   "cell_type": "markdown",
   "metadata": {},
   "source": [
    "Plot the blood Glucose levels for 9 individuals within the data set."
   ]
  },
  {
   "cell_type": "code",
   "execution_count": null,
   "metadata": {},
   "outputs": [],
   "source": [
    "\n",
    "#group the data by time values\n",
    "data = df_train[[\"bg+1:00\",\"time\",\"p_num\"]].groupby([\"p_num\",\"time\"]).mean().reset_index()\n",
    "\n",
    "# Create a line plot\n",
    "fig = px.line(data, x=\"time\", y='bg+1:00',color=\"p_num\", title='1 HOUR ahead Blood Glucose over time')\n",
    "\n",
    "# Show the plot\n",
    "fig.show()"
   ]
  },
  {
   "cell_type": "markdown",
   "metadata": {},
   "source": [
    "**Comment:</br>**\n",
    "The blood glucose levels are quite different from one participants to another, which is conceivable given that they may be doing different activities, having different carbohydrate intakes, etc."
   ]
  },
  {
   "cell_type": "markdown",
   "metadata": {},
   "source": [
    "Plot the average blood glucose levels and the average carbs consummed over time\n"
   ]
  },
  {
   "cell_type": "code",
   "execution_count": null,
   "metadata": {},
   "outputs": [],
   "source": [
    "#group the data by time values\n",
    "data = df_train[[\"bg+1:00\",\"time\",\"cals-0:00\",\"carbs-0:00\",'insulin-0:00','hr-0:00','steps-0:00',\"bg-0:00\"]].groupby(\"time\").mean().reset_index()\n",
    "\n",
    "#normalize the data\n",
    "data[data.columns[1:]] = data[data.columns[1:]].apply(lambda col:((col - col.min()) / (col.max() - col.min())))\n",
    "# Create a line plot\n",
    "fig = px.line(data, x=\"time\", y=data.columns[1:], title='1 HOUR ahead Blood Glucose over time')\n",
    "\n",
    "# Show the plot\n",
    "fig.show()\n"
   ]
  },
  {
   "cell_type": "markdown",
   "metadata": {},
   "source": [
    "**Comment:</br>**\n",
    "* Heart rate and step at 0:00 appears to follow the same trend over the 24H across all patiens. Which is expected as the heart rate increases when the body is doing more steps. We will see later on if they are indeed correlated with one another.\n",
    "* Blood gluscose vs Insulin levels (~1h before):</br>\n",
    "\n"
   ]
  },
  {
   "cell_type": "markdown",
   "metadata": {},
   "source": [
    "Analyze the correlation between each groups of columns (eg. bg, hr,etc) with the target"
   ]
  },
  {
   "cell_type": "code",
   "execution_count": null,
   "metadata": {},
   "outputs": [],
   "source": [
    "plt.figure(figsize=(20,3))\n",
    "cols = sorted(group_cols[\"bg\"])[:]\n",
    "data = df_train[cols].corr()[[\"bg+1:00\"]]\n",
    "data = data.sort_values(by=\"bg+1:00\",ascending=False).T\n",
    "plt.title(\"Correlation Heatmap between the target and lag glucose levels\")\n",
    "heatmap = sns.heatmap(data,cmap=\"Spectral\",linewidths=0.5,annot=True,fmt='.2f')\n",
    "for text in heatmap.texts:\n",
    "    text.set_rotation(90)  # Set annotations to horizontal;"
   ]
  },
  {
   "cell_type": "markdown",
   "metadata": {},
   "source": [
    "**Comment:**</br>\n",
    "The more we go back in time, the lower the correlation between the 1 hour ahead glucose level and the bg at higher past time steps.\n",
    "The correlation between the 1 hour ahead glucose level and the bg 1 hour before is the highest, meaning it can be a very good feature to predict the target."
   ]
  },
  {
   "cell_type": "code",
   "execution_count": null,
   "metadata": {},
   "outputs": [],
   "source": [
    "plt.figure(figsize=(20,3))\n",
    "cols = sorted(group_cols[\"insulin\"])[:]\n",
    "cols.insert(0,\"bg+1:00\")\n",
    "data = df_train[cols].corr()[[\"bg+1:00\"]]\n",
    "data = data.sort_values(by=\"bg+1:00\",ascending=False).T\n",
    "plt.title(\"Correlation Heatmap between the target and lag insulin levels\")\n",
    "heatmap = sns.heatmap(data,cmap=\"Spectral\",linewidths=0.5,annot=True,fmt='.2f')\n",
    "for text in heatmap.texts:\n",
    "    text.set_rotation(90)  # Set annotations to horizontal;"
   ]
  },
  {
   "cell_type": "markdown",
   "metadata": {},
   "source": [
    "**Comment:**</br>\n",
    "According to the plot above, there is no linear correlation between the target varable and insulin levels at different times.</br>\n",
    "However, according to the litterature, the effect of \"insulin\" decay over time in exponentially decreasing way.  Therefore, transforming the insulin variable in way that is close to the physiological decay of insulin might help to predict the target variable.</br>\n",
    "\n",
    "In addition, it's established in the literature that the effect of \"insulin\" has a non-linear effect on the blood glucose. Therefore, having no correlation is not a suprise."
   ]
  },
  {
   "cell_type": "code",
   "execution_count": null,
   "metadata": {},
   "outputs": [],
   "source": [
    "plt.figure(figsize=(20,3))\n",
    "cols = sorted(group_cols[\"hr\"])[:]\n",
    "cols.insert(0,\"bg+1:00\")\n",
    "data = df_train[cols].corr()[[\"bg+1:00\"]]\n",
    "data = data.sort_values(by=\"bg+1:00\",ascending=False).T\n",
    "plt.title(\"Correlation Heatmap between the target and lag hr levels\")\n",
    "heatmap = sns.heatmap(data,cmap=\"Spectral\",linewidths=0.5,annot=True,fmt='.2f')\n",
    "for text in heatmap.texts:\n",
    "    text.set_rotation(90)  # Set annotations to horizontal;"
   ]
  },
  {
   "cell_type": "markdown",
   "metadata": {},
   "source": [
    "**Comment:**\n",
    "Like with the insulin levels, there is no linear correlation between the target and the heart rates variables."
   ]
  },
  {
   "cell_type": "code",
   "execution_count": null,
   "metadata": {},
   "outputs": [],
   "source": [
    "plt.figure(figsize=(20,3))\n",
    "cols = sorted(group_cols[\"cals\"])[:]\n",
    "cols.insert(0,\"bg+1:00\")\n",
    "data = df_train[cols].corr()[[\"bg+1:00\"]]\n",
    "data = data.sort_values(by=\"bg+1:00\",ascending=False).T\n",
    "plt.title(\"Correlation Heatmap between the target and lag cals levels\")\n",
    "heatmap = sns.heatmap(data,cmap=\"Spectral\",linewidths=0.5,annot=True,fmt='.2f')\n",
    "for text in heatmap.texts:\n",
    "    text.set_rotation(90)  # Set annotations to horizontal;"
   ]
  },
  {
   "cell_type": "markdown",
   "metadata": {},
   "source": [
    "**Comment:**\n",
    "Like with the insulin levels, there is no linear correlation between the target and the heart rates variables.</br>\n",
    "In fact, this effect is not suprising given that the cals"
   ]
  },
  {
   "cell_type": "code",
   "execution_count": null,
   "metadata": {},
   "outputs": [],
   "source": [
    "plt.figure(figsize=(20,3))\n",
    "cols = sorted(group_cols[\"carbs\"])[:]\n",
    "cols.insert(0,\"bg+1:00\")\n",
    "data = df_train[cols].corr()[[\"bg+1:00\"]]\n",
    "data = data.sort_values(by=\"bg+1:00\",ascending=False).T\n",
    "plt.title(\"Correlation Heatmap between the target and lag cals levels\")\n",
    "heatmap = sns.heatmap(data,cmap=\"Spectral\",linewidths=0.5,annot=True,fmt='.2f')\n",
    "for text in heatmap.texts:\n",
    "    text.set_rotation(90)  # Set annotations to horizontal;"
   ]
  },
  {
   "cell_type": "markdown",
   "metadata": {},
   "source": [
    "**Comment:**\n",
    "The above plot shows that there is a small positive correlation between the among of carbs (food) ingested and the target variable. Moreover,according to our plot, the amount of food ingested between 2H to 3H tends to have a higher correlation to the target variable than the rest.</br>\n",
    "\n",
    "Like the insulin, it has a non-linear effect on the blood glucose within the blood."
   ]
  },
  {
   "cell_type": "code",
   "execution_count": null,
   "metadata": {},
   "outputs": [],
   "source": [
    "plt.figure(figsize=(20,3))\n",
    "cols = sorted(group_cols[\"steps\"])\n",
    "cols.insert(0,\"bg+1:00\")\n",
    "data = df_train[cols].corr()[[\"bg+1:00\"]].T\n",
    "plt.title(\"Correlation Heatmap between the target and lag steps levels\")\n",
    "heatmap = sns.heatmap(data,cmap=\"Spectral\",linewidths=0.5,annot=True,fmt='.2f')\n",
    "for text in heatmap.texts:\n",
    "    text.set_rotation(90)  # Set annotations to horizontal;"
   ]
  },
  {
   "cell_type": "markdown",
   "metadata": {},
   "source": [
    "**Comment:**\n",
    "The above plot shows that there is a small correlation between the among of carbs (food) ingested and the target variable. Moreover,according to our plot, the amount of food ingested between 2H to 3H tends to have a higher correlation to the target variable than the rest.\n"
   ]
  },
  {
   "cell_type": "markdown",
   "metadata": {},
   "source": [
    "**EDA Take aways:** </br>\n",
    "* Some missing values imputations strategies will be necessary for bloog glucose,insulin, cals, steps, hr.\n",
    "* Carbs and activity related columns will be discarded since the ratio of missing values is close to 100%\n",
    "* Past bg columns have a positive   correlation with the target variable\n",
    "* The other columns have a small (even close to 0) correlation with the target variable, which might be explained a an inherent no linear relationship between them and the target variable (e.g insulin).\n",
    "* Feature transformations might be useful for e.g for insulin to mimic the decay behavior of insulin within the blood stream.\n",
    "*  The bg values of different patients fluctuate around different intervalss"
   ]
  }
 ],
 "metadata": {
  "kernelspec": {
   "display_name": ".venv",
   "language": "python",
   "name": "python3"
  },
  "language_info": {
   "codemirror_mode": {
    "name": "ipython",
    "version": 3
   },
   "file_extension": ".py",
   "mimetype": "text/x-python",
   "name": "python",
   "nbconvert_exporter": "python",
   "pygments_lexer": "ipython3",
   "version": "3.11.6"
  }
 },
 "nbformat": 4,
 "nbformat_minor": 2
}
